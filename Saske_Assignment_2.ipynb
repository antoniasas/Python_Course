{
  "nbformat": 4,
  "nbformat_minor": 0,
  "metadata": {
    "kernelspec": {
      "display_name": "Python 3",
      "language": "python",
      "name": "python3"
    },
    "language_info": {
      "codemirror_mode": {
        "name": "ipython",
        "version": 3
      },
      "file_extension": ".py",
      "mimetype": "text/x-python",
      "name": "python",
      "nbconvert_exporter": "python",
      "pygments_lexer": "ipython3",
      "version": "3.8.5"
    },
    "colab": {
      "name": "Saske_Assignment_2.ipynb",
      "provenance": []
    }
  },
  "cells": [
    {
      "cell_type": "markdown",
      "metadata": {
        "id": "Zo3tk_Hx8tpJ"
      },
      "source": [
        "## Second Assignment"
      ]
    },
    {
      "cell_type": "markdown",
      "metadata": {
        "id": "WPG_8rz28tpM"
      },
      "source": [
        "#### 1) Create a function called **\"even_squared\"** that receives an integer value **N**, and returns a list containing, in ascending order, the square of each of the even values, from 1 to N, including N if applicable. "
      ]
    },
    {
      "cell_type": "code",
      "metadata": {
        "id": "WtpWU45i8tpO",
        "colab": {
          "base_uri": "https://localhost:8080/"
        },
        "outputId": "f983792f-9bf2-4c62-c3f7-458a2a7a2258"
      },
      "source": [
        "def even_squared():\n",
        "  print(\"Enter an integer x:\")\n",
        "  N = int(input())\n",
        "  n_list = []\n",
        "\n",
        "  for i in range (1, N, 1):\n",
        "    if (i % 2) == 0:\n",
        "      n_list.append(i*i)\n",
        "  if (N % 2) == 0:\n",
        "    n_list.append(N*N)\n",
        "  print(\"The even squares from 1 to x are:\")\n",
        "  print(n_list)\n",
        "\n",
        "even_squared()\n"
      ],
      "execution_count": null,
      "outputs": [
        {
          "output_type": "stream",
          "name": "stdout",
          "text": [
            "Enter an integer x:\n",
            "8\n",
            "The even squares from 1 to x are:\n",
            "[4, 16, 36, 64]\n"
          ]
        }
      ]
    },
    {
      "cell_type": "markdown",
      "metadata": {
        "id": "kqtGo8RP8tpP"
      },
      "source": [
        "#### 2) Using a while loop and the **input()** function, read an indefinite amount of **integers** until the number read is **-1**. After this process, print two lists on the screen: The first containing the even integers, and the second containing the odd integers. Both must be in ascending order. "
      ]
    },
    {
      "cell_type": "code",
      "metadata": {
        "id": "lJnT-8be8tpQ",
        "colab": {
          "base_uri": "https://localhost:8080/"
        },
        "outputId": "673e239e-7703-48d3-bffd-d5b990804869"
      },
      "source": [
        "print(\"Enter a number of integers:\")\n",
        "ev = []\n",
        "od = []\n",
        "num = int(input())\n",
        "\n",
        "while num != -1:\n",
        "  num = int(input())\n",
        "  if (num % 2) == 0:\n",
        "    ev.append(num)\n",
        "  else:\n",
        "    od.append(num)\n",
        "print(\"The even integers are \" + str(ev))\n",
        "print(\"The odd integers are \" + str(od))"
      ],
      "execution_count": null,
      "outputs": [
        {
          "output_type": "stream",
          "name": "stdout",
          "text": [
            "Enter a number of integers:\n",
            "44\n",
            "23\n",
            "4\n",
            "7\n",
            "-23\n",
            "5\n",
            "2\n",
            "-1\n",
            "The even integers are [4, 2]\n",
            "The odd integers are [23, 7, -23, 5, -1]\n"
          ]
        }
      ]
    },
    {
      "cell_type": "markdown",
      "metadata": {
        "id": "K7LRFtmt8tpQ"
      },
      "source": [
        "#### 3) Create a function called **\"even_account\"** that receives a list of integers, counts the number of existing even elements, and returns this count. "
      ]
    },
    {
      "cell_type": "code",
      "metadata": {
        "id": "ylBcS6uJ8tpR",
        "colab": {
          "base_uri": "https://localhost:8080/"
        },
        "outputId": "16e8f650-11ea-4ae3-a6ff-caebe0b5884f"
      },
      "source": [
        "def even_account():\n",
        "  print(\"Enter a number of integers:\")\n",
        "  evac = [int(x) for x in input().split()]\n",
        "  count = 0\n",
        "\n",
        "  for i in evac: \n",
        "    if (i % 2) == 0:\n",
        "      count = count + 1\n",
        "  \n",
        "  print(\"The count of existing even elements is: \")\n",
        "  return count\n",
        "\n",
        "even_account()"
      ],
      "execution_count": null,
      "outputs": [
        {
          "output_type": "stream",
          "name": "stdout",
          "text": [
            "Enter a number of integers:\n",
            "4 5 32 5 3 \n",
            "The count of existing even elements is: \n"
          ]
        },
        {
          "output_type": "execute_result",
          "data": {
            "text/plain": [
              "2"
            ]
          },
          "metadata": {},
          "execution_count": 49
        }
      ]
    },
    {
      "cell_type": "markdown",
      "metadata": {
        "id": "lKdF5LpQ8tpS"
      },
      "source": [
        "#### 4) Create a function called **\"squared_list\"** that receives a list of integers and returns another list whose elements are the squares of the elements of the first. "
      ]
    },
    {
      "cell_type": "code",
      "metadata": {
        "id": "uHNAO-3K8tpS",
        "colab": {
          "base_uri": "https://localhost:8080/"
        },
        "outputId": "1bf1de73-a540-431f-f56c-9ff02516ce1b"
      },
      "source": [
        "def squared_list():\n",
        "  print(\"Enter a number of integers:\")\n",
        "  li = [int(x) for x in input().split()]\n",
        "  sq_li = []\n",
        "\n",
        "  for i in li:\n",
        "    sq_i = [i**2]\n",
        "    sq_li.append(sq_i)\n",
        "\n",
        "  print(\"The squares of these elements are:\")\n",
        "  return sq_li\n",
        "\n",
        "squared_list()\n"
      ],
      "execution_count": null,
      "outputs": [
        {
          "output_type": "stream",
          "name": "stdout",
          "text": [
            "Enter a number of integers:\n",
            "4 23 4\n",
            "The squares of these elements are:\n"
          ]
        },
        {
          "output_type": "execute_result",
          "data": {
            "text/plain": [
              "[[16], [529], [16]]"
            ]
          },
          "metadata": {},
          "execution_count": 51
        }
      ]
    },
    {
      "cell_type": "markdown",
      "metadata": {
        "id": "gDnqEw288tpT"
      },
      "source": [
        "#### 5) Create a function called **\"descending\"** that receives two lists of integers and returns a single list, which contains all the elements in descending order, and may include repeated elements. "
      ]
    },
    {
      "cell_type": "code",
      "metadata": {
        "id": "W8ecboay8tpU",
        "colab": {
          "base_uri": "https://localhost:8080/"
        },
        "outputId": "bafe5995-52fc-40d2-b782-4a97ca550ad6"
      },
      "source": [
        "def descending():\n",
        "  print(\"Enter two lists consisting of integers seperated by spaces:\")\n",
        "  des1 = [int(x) for x in input().split()]\n",
        "  des2 = [int(x) for x in input().split()]\n",
        "  des_join = des1 + des2\n",
        "  des_join.sort(reverse=True)\n",
        "  print(\"Here are all integers in descending order:\")\n",
        "  return des_join\n",
        "\n",
        "descending()"
      ],
      "execution_count": null,
      "outputs": [
        {
          "output_type": "stream",
          "name": "stdout",
          "text": [
            "Enter two lists consisting of integers seperated by spaces:\n",
            "22 8 2 3 -43 3\n",
            "43 -43 22 6 7 77\n",
            "Here are all integers in descending order:\n"
          ]
        },
        {
          "output_type": "execute_result",
          "data": {
            "text/plain": [
              "[77, 43, 22, 22, 8, 7, 6, 3, 3, 2, -43, -43]"
            ]
          },
          "metadata": {},
          "execution_count": 55
        }
      ]
    },
    {
      "cell_type": "markdown",
      "metadata": {
        "id": "UeTIQ1Nt8tpU"
      },
      "source": [
        "#### 6) Create a function called **\"adding\"** that receives a list **A**, and an arbitrary number of integers as input. Return a new list containing the elements of **A** plus the integers passed as input, in the order in which they were given. Here is an example: \n",
        "\n",
        ">```python\n",
        ">>>> A = [10,20,30]\n",
        ">>>> adding(A, 4, 10, 50, 1)\n",
        "> [10, 20, 30, 4, 10, 50, 1]\n",
        "```"
      ]
    },
    {
      "cell_type": "code",
      "metadata": {
        "id": "FFZxfnYD8tpV",
        "colab": {
          "base_uri": "https://localhost:8080/"
        },
        "outputId": "4629efe4-f2a8-4f61-bf9b-c614f830273a"
      },
      "source": [
        "def adding():\n",
        "  print(\"Enter a list of integers:\")\n",
        "  ints = [int(x) for x in input().split()]\n",
        "  A = [11, 17, 23]\n",
        "\n",
        "  intsa = A + ints\n",
        "  print(\"Here are list A and the integers joined together:\")\n",
        "  return intsa\n",
        "\n",
        "adding()"
      ],
      "execution_count": null,
      "outputs": [
        {
          "output_type": "stream",
          "name": "stdout",
          "text": [
            "Enter a list of integers:\n",
            "2 4 298 3 2\n",
            "Here are list A and the integers joined together:\n"
          ]
        },
        {
          "output_type": "execute_result",
          "data": {
            "text/plain": [
              "[11, 17, 23, 2, 4, 298, 3, 2]"
            ]
          },
          "metadata": {},
          "execution_count": 57
        }
      ]
    },
    {
      "cell_type": "markdown",
      "metadata": {
        "id": "rfT_6Lgq8tpW"
      },
      "source": [
        "#### 7) Create a function called **\"intersection\"** that receives two input lists and returns another list with the values that belong to the two lists simultaneously (intersection) without repetition of values and in ascending order. Use only lists (do not use sets); loops and conditionals. See the example: \n",
        "\n",
        ">```python\n",
        ">>>> A = [-2, 0, 1, 2, 3]\n",
        ">>>> B = [-1, 2, 3, 6, 8]\n",
        ">>>> intersection(A,B)\n",
        "> [2, 3]\n",
        "```"
      ]
    },
    {
      "cell_type": "code",
      "metadata": {
        "id": "LI2HGtm18tpX",
        "colab": {
          "base_uri": "https://localhost:8080/"
        },
        "outputId": "4a74701b-b383-4aea-9fd2-11204e1ed881"
      },
      "source": [
        "def intersection():\n",
        "  print(\"Enter two lists consisting of integers seperated by spaces:\")\n",
        "  C = [int(x) for x in input().split()]\n",
        "  D = [int(x) for x in input().split()]\n",
        "\n",
        "  E = [value for value in C if value in D]\n",
        "  print(\"Here is a list of the intersecting values:\")\n",
        "  return E\n",
        "\n",
        "intersection()"
      ],
      "execution_count": null,
      "outputs": [
        {
          "output_type": "stream",
          "name": "stdout",
          "text": [
            "Enter two lists consisting of integers seperated by spaces:\n",
            "1 2 3 4\n",
            "4 5 6\n",
            "Here is a list of the intersecting values:\n"
          ]
        },
        {
          "output_type": "execute_result",
          "data": {
            "text/plain": [
              "[4]"
            ]
          },
          "metadata": {},
          "execution_count": 3
        }
      ]
    },
    {
      "cell_type": "markdown",
      "metadata": {
        "id": "S6P-P9U38tpX"
      },
      "source": [
        "#### 8) Create a function called **\"union\"** that receives two input lists and returns another list with the union of the elements of the two received, without repetition of elements and in ascending order. Use only lists (do not use sets); loops and conditionals. See the example: \n",
        "\n",
        ">```python\n",
        ">>>> A = [-2, 0, 1, 2]\n",
        ">>>> B = [-1, 1, 2, 10]\n",
        ">>>> union(A,B)\n",
        "> [-2, ,-1, 0, 1, 2, 10]\n",
        "```"
      ]
    },
    {
      "cell_type": "code",
      "metadata": {
        "id": "O-K1JqI-8tpY",
        "colab": {
          "base_uri": "https://localhost:8080/"
        },
        "outputId": "1c41f344-d952-4da6-ec19-1b247ad2a3ac"
      },
      "source": [
        "def union():\n",
        "  print(\"Enter two lists consisting of integers seperated by spaces:\")\n",
        "  E = [int(x) for x in input().split()]\n",
        "  F = [int(x) for x in input().split()]\n",
        "\n",
        "  EF = sorted(E + F)\n",
        "  EF_nodupl = []\n",
        "  [EF_nodupl.append(x) for x in EF if x not in EF_nodupl]\n",
        "  print(\"Here is a combined list without duplicates:\")\n",
        "  return EF_nodupl\n",
        "\n",
        "union()"
      ],
      "execution_count": null,
      "outputs": [
        {
          "output_type": "stream",
          "name": "stdout",
          "text": [
            "Enter two lists consisting of integers seperated by spaces:\n",
            "4 3 -33 5 6 4\n",
            "5 43 -332 -33 56\n",
            "Here is a combined list without duplicates:\n"
          ]
        },
        {
          "output_type": "execute_result",
          "data": {
            "text/plain": [
              "[-332, -33, 3, 4, 5, 6, 43, 56]"
            ]
          },
          "metadata": {},
          "execution_count": 8
        }
      ]
    },
    {
      "cell_type": "markdown",
      "metadata": {
        "id": "OZCrbep28tpZ"
      },
      "source": [
        "#### 9) Generalize the **\"intersection\"** function so that it receives an indefinite number of lists and returns the intersection of all of them. Call the new function **intersection2**. "
      ]
    },
    {
      "cell_type": "code",
      "metadata": {
        "id": "rp8csrQi8tpZ",
        "colab": {
          "base_uri": "https://localhost:8080/",
          "height": 745
        },
        "outputId": "d202fa3d-4264-49bf-8919-10a5495b8d33"
      },
      "source": [
        "def intersection2 ():\n",
        "  print(\"Enter two lists consisting of integers seperated by spaces:\")\n",
        "  C = [int(x) for x in input().split()]\n",
        "  D = [int(x) for x in input().split()]\n",
        "\n",
        "  E = [value for value in C if value in D]\n",
        "  print(\"Here is a list of the intersecting values:\")\n",
        "  print(str(E))\n",
        "  while 1 == 1:\n",
        "    print(\"Enter another list:\")\n",
        "    G = [int(x) for x in input().split()]\n",
        "    E = [value for value in E if value in G]\n",
        "    print(str(E))\n",
        "\n",
        "intersection2()"
      ],
      "execution_count": null,
      "outputs": [
        {
          "output_type": "stream",
          "name": "stdout",
          "text": [
            "Enter two lists consisting of integers seperated by spaces:\n",
            "1 2 3 4 5 6 7\n",
            "3 4 52 2 4 1 \n",
            "Here is a list of the intersecting values:\n",
            "[1, 2, 3, 4]\n",
            "Enter another list:\n",
            "4 5 3 2 6 1 3\n",
            "[1, 2, 3, 4]\n",
            "Enter another list:\n",
            "2 3 5 7\n",
            "[2, 3]\n",
            "Enter another list:\n"
          ]
        },
        {
          "output_type": "error",
          "ename": "KeyboardInterrupt",
          "evalue": "ignored",
          "traceback": [
            "\u001b[0;31m---------------------------------------------------------------------------\u001b[0m",
            "\u001b[0;31mKeyboardInterrupt\u001b[0m                         Traceback (most recent call last)",
            "\u001b[0;32m/usr/local/lib/python3.7/dist-packages/ipykernel/kernelbase.py\u001b[0m in \u001b[0;36m_input_request\u001b[0;34m(self, prompt, ident, parent, password)\u001b[0m\n\u001b[1;32m    728\u001b[0m             \u001b[0;32mtry\u001b[0m\u001b[0;34m:\u001b[0m\u001b[0;34m\u001b[0m\u001b[0;34m\u001b[0m\u001b[0m\n\u001b[0;32m--> 729\u001b[0;31m                 \u001b[0mident\u001b[0m\u001b[0;34m,\u001b[0m \u001b[0mreply\u001b[0m \u001b[0;34m=\u001b[0m \u001b[0mself\u001b[0m\u001b[0;34m.\u001b[0m\u001b[0msession\u001b[0m\u001b[0;34m.\u001b[0m\u001b[0mrecv\u001b[0m\u001b[0;34m(\u001b[0m\u001b[0mself\u001b[0m\u001b[0;34m.\u001b[0m\u001b[0mstdin_socket\u001b[0m\u001b[0;34m,\u001b[0m \u001b[0;36m0\u001b[0m\u001b[0;34m)\u001b[0m\u001b[0;34m\u001b[0m\u001b[0;34m\u001b[0m\u001b[0m\n\u001b[0m\u001b[1;32m    730\u001b[0m             \u001b[0;32mexcept\u001b[0m \u001b[0mException\u001b[0m\u001b[0;34m:\u001b[0m\u001b[0;34m\u001b[0m\u001b[0;34m\u001b[0m\u001b[0m\n",
            "\u001b[0;32m/usr/local/lib/python3.7/dist-packages/jupyter_client/session.py\u001b[0m in \u001b[0;36mrecv\u001b[0;34m(self, socket, mode, content, copy)\u001b[0m\n\u001b[1;32m    802\u001b[0m         \u001b[0;32mtry\u001b[0m\u001b[0;34m:\u001b[0m\u001b[0;34m\u001b[0m\u001b[0;34m\u001b[0m\u001b[0m\n\u001b[0;32m--> 803\u001b[0;31m             \u001b[0mmsg_list\u001b[0m \u001b[0;34m=\u001b[0m \u001b[0msocket\u001b[0m\u001b[0;34m.\u001b[0m\u001b[0mrecv_multipart\u001b[0m\u001b[0;34m(\u001b[0m\u001b[0mmode\u001b[0m\u001b[0;34m,\u001b[0m \u001b[0mcopy\u001b[0m\u001b[0;34m=\u001b[0m\u001b[0mcopy\u001b[0m\u001b[0;34m)\u001b[0m\u001b[0;34m\u001b[0m\u001b[0;34m\u001b[0m\u001b[0m\n\u001b[0m\u001b[1;32m    804\u001b[0m         \u001b[0;32mexcept\u001b[0m \u001b[0mzmq\u001b[0m\u001b[0;34m.\u001b[0m\u001b[0mZMQError\u001b[0m \u001b[0;32mas\u001b[0m \u001b[0me\u001b[0m\u001b[0;34m:\u001b[0m\u001b[0;34m\u001b[0m\u001b[0;34m\u001b[0m\u001b[0m\n",
            "\u001b[0;32m/usr/local/lib/python3.7/dist-packages/zmq/sugar/socket.py\u001b[0m in \u001b[0;36mrecv_multipart\u001b[0;34m(self, flags, copy, track)\u001b[0m\n\u001b[1;32m    624\u001b[0m         \"\"\"\n\u001b[0;32m--> 625\u001b[0;31m         \u001b[0mparts\u001b[0m \u001b[0;34m=\u001b[0m \u001b[0;34m[\u001b[0m\u001b[0mself\u001b[0m\u001b[0;34m.\u001b[0m\u001b[0mrecv\u001b[0m\u001b[0;34m(\u001b[0m\u001b[0mflags\u001b[0m\u001b[0;34m,\u001b[0m \u001b[0mcopy\u001b[0m\u001b[0;34m=\u001b[0m\u001b[0mcopy\u001b[0m\u001b[0;34m,\u001b[0m \u001b[0mtrack\u001b[0m\u001b[0;34m=\u001b[0m\u001b[0mtrack\u001b[0m\u001b[0;34m)\u001b[0m\u001b[0;34m]\u001b[0m\u001b[0;34m\u001b[0m\u001b[0;34m\u001b[0m\u001b[0m\n\u001b[0m\u001b[1;32m    626\u001b[0m         \u001b[0;31m# have first part already, only loop while more to receive\u001b[0m\u001b[0;34m\u001b[0m\u001b[0;34m\u001b[0m\u001b[0;34m\u001b[0m\u001b[0m\n",
            "\u001b[0;32mzmq/backend/cython/socket.pyx\u001b[0m in \u001b[0;36mzmq.backend.cython.socket.Socket.recv\u001b[0;34m()\u001b[0m\n",
            "\u001b[0;32mzmq/backend/cython/socket.pyx\u001b[0m in \u001b[0;36mzmq.backend.cython.socket.Socket.recv\u001b[0;34m()\u001b[0m\n",
            "\u001b[0;32mzmq/backend/cython/socket.pyx\u001b[0m in \u001b[0;36mzmq.backend.cython.socket._recv_copy\u001b[0;34m()\u001b[0m\n",
            "\u001b[0;32m/usr/local/lib/python3.7/dist-packages/zmq/backend/cython/checkrc.pxd\u001b[0m in \u001b[0;36mzmq.backend.cython.checkrc._check_rc\u001b[0;34m()\u001b[0m\n",
            "\u001b[0;31mKeyboardInterrupt\u001b[0m: ",
            "\nDuring handling of the above exception, another exception occurred:\n",
            "\u001b[0;31mKeyboardInterrupt\u001b[0m                         Traceback (most recent call last)",
            "\u001b[0;32m<ipython-input-15-396d6099779d>\u001b[0m in \u001b[0;36m<module>\u001b[0;34m()\u001b[0m\n\u001b[1;32m     13\u001b[0m     \u001b[0mprint\u001b[0m\u001b[0;34m(\u001b[0m\u001b[0mstr\u001b[0m\u001b[0;34m(\u001b[0m\u001b[0mE\u001b[0m\u001b[0;34m)\u001b[0m\u001b[0;34m)\u001b[0m\u001b[0;34m\u001b[0m\u001b[0;34m\u001b[0m\u001b[0m\n\u001b[1;32m     14\u001b[0m \u001b[0;34m\u001b[0m\u001b[0m\n\u001b[0;32m---> 15\u001b[0;31m \u001b[0mintersection2\u001b[0m\u001b[0;34m(\u001b[0m\u001b[0;34m)\u001b[0m\u001b[0;34m\u001b[0m\u001b[0;34m\u001b[0m\u001b[0m\n\u001b[0m",
            "\u001b[0;32m<ipython-input-15-396d6099779d>\u001b[0m in \u001b[0;36mintersection2\u001b[0;34m()\u001b[0m\n\u001b[1;32m      9\u001b[0m   \u001b[0;32mwhile\u001b[0m \u001b[0;36m1\u001b[0m \u001b[0;34m==\u001b[0m \u001b[0;36m1\u001b[0m\u001b[0;34m:\u001b[0m\u001b[0;34m\u001b[0m\u001b[0;34m\u001b[0m\u001b[0m\n\u001b[1;32m     10\u001b[0m     \u001b[0mprint\u001b[0m\u001b[0;34m(\u001b[0m\u001b[0;34m\"Enter another list:\"\u001b[0m\u001b[0;34m)\u001b[0m\u001b[0;34m\u001b[0m\u001b[0;34m\u001b[0m\u001b[0m\n\u001b[0;32m---> 11\u001b[0;31m     \u001b[0mG\u001b[0m \u001b[0;34m=\u001b[0m \u001b[0;34m[\u001b[0m\u001b[0mint\u001b[0m\u001b[0;34m(\u001b[0m\u001b[0mx\u001b[0m\u001b[0;34m)\u001b[0m \u001b[0;32mfor\u001b[0m \u001b[0mx\u001b[0m \u001b[0;32min\u001b[0m \u001b[0minput\u001b[0m\u001b[0;34m(\u001b[0m\u001b[0;34m)\u001b[0m\u001b[0;34m.\u001b[0m\u001b[0msplit\u001b[0m\u001b[0;34m(\u001b[0m\u001b[0;34m)\u001b[0m\u001b[0;34m]\u001b[0m\u001b[0;34m\u001b[0m\u001b[0;34m\u001b[0m\u001b[0m\n\u001b[0m\u001b[1;32m     12\u001b[0m     \u001b[0mE\u001b[0m \u001b[0;34m=\u001b[0m \u001b[0;34m[\u001b[0m\u001b[0mvalue\u001b[0m \u001b[0;32mfor\u001b[0m \u001b[0mvalue\u001b[0m \u001b[0;32min\u001b[0m \u001b[0mE\u001b[0m \u001b[0;32mif\u001b[0m \u001b[0mvalue\u001b[0m \u001b[0;32min\u001b[0m \u001b[0mG\u001b[0m\u001b[0;34m]\u001b[0m\u001b[0;34m\u001b[0m\u001b[0;34m\u001b[0m\u001b[0m\n\u001b[1;32m     13\u001b[0m     \u001b[0mprint\u001b[0m\u001b[0;34m(\u001b[0m\u001b[0mstr\u001b[0m\u001b[0;34m(\u001b[0m\u001b[0mE\u001b[0m\u001b[0;34m)\u001b[0m\u001b[0;34m)\u001b[0m\u001b[0;34m\u001b[0m\u001b[0;34m\u001b[0m\u001b[0m\n",
            "\u001b[0;32m/usr/local/lib/python3.7/dist-packages/ipykernel/kernelbase.py\u001b[0m in \u001b[0;36mraw_input\u001b[0;34m(self, prompt)\u001b[0m\n\u001b[1;32m    702\u001b[0m             \u001b[0mself\u001b[0m\u001b[0;34m.\u001b[0m\u001b[0m_parent_ident\u001b[0m\u001b[0;34m,\u001b[0m\u001b[0;34m\u001b[0m\u001b[0;34m\u001b[0m\u001b[0m\n\u001b[1;32m    703\u001b[0m             \u001b[0mself\u001b[0m\u001b[0;34m.\u001b[0m\u001b[0m_parent_header\u001b[0m\u001b[0;34m,\u001b[0m\u001b[0;34m\u001b[0m\u001b[0;34m\u001b[0m\u001b[0m\n\u001b[0;32m--> 704\u001b[0;31m             \u001b[0mpassword\u001b[0m\u001b[0;34m=\u001b[0m\u001b[0;32mFalse\u001b[0m\u001b[0;34m,\u001b[0m\u001b[0;34m\u001b[0m\u001b[0;34m\u001b[0m\u001b[0m\n\u001b[0m\u001b[1;32m    705\u001b[0m         )\n\u001b[1;32m    706\u001b[0m \u001b[0;34m\u001b[0m\u001b[0m\n",
            "\u001b[0;32m/usr/local/lib/python3.7/dist-packages/ipykernel/kernelbase.py\u001b[0m in \u001b[0;36m_input_request\u001b[0;34m(self, prompt, ident, parent, password)\u001b[0m\n\u001b[1;32m    732\u001b[0m             \u001b[0;32mexcept\u001b[0m \u001b[0mKeyboardInterrupt\u001b[0m\u001b[0;34m:\u001b[0m\u001b[0;34m\u001b[0m\u001b[0;34m\u001b[0m\u001b[0m\n\u001b[1;32m    733\u001b[0m                 \u001b[0;31m# re-raise KeyboardInterrupt, to truncate traceback\u001b[0m\u001b[0;34m\u001b[0m\u001b[0;34m\u001b[0m\u001b[0;34m\u001b[0m\u001b[0m\n\u001b[0;32m--> 734\u001b[0;31m                 \u001b[0;32mraise\u001b[0m \u001b[0mKeyboardInterrupt\u001b[0m\u001b[0;34m\u001b[0m\u001b[0;34m\u001b[0m\u001b[0m\n\u001b[0m\u001b[1;32m    735\u001b[0m             \u001b[0;32melse\u001b[0m\u001b[0;34m:\u001b[0m\u001b[0;34m\u001b[0m\u001b[0;34m\u001b[0m\u001b[0m\n\u001b[1;32m    736\u001b[0m                 \u001b[0;32mbreak\u001b[0m\u001b[0;34m\u001b[0m\u001b[0;34m\u001b[0m\u001b[0m\n",
            "\u001b[0;31mKeyboardInterrupt\u001b[0m: "
          ]
        }
      ]
    },
    {
      "cell_type": "markdown",
      "metadata": {
        "id": "AQGqzkeW8tpZ"
      },
      "source": [
        "## Challenge\n",
        "\n",
        "#### 10) Create a function named **\"matrix\"** that implements matrix multiplication:\n",
        "    \n",
        "Given the matrices:\n",
        "    \n",
        "$A_{m\\times n}=\n",
        "\\left[\\begin{matrix}\n",
        "a_{11}&a_{12}&...&a_{1n}\\\\\n",
        "a_{21}&a_{22}&...&a_{2n}\\\\\n",
        "\\vdots &\\vdots &&\\vdots\\\\\n",
        "a_{m1}&a_{m2}&...&a_{mn}\\\\\n",
        "\\end{matrix}\\right]$\n",
        "    \n",
        "We will represent then as a list of lists.\n",
        "\n",
        "$A = [[a_{11},a_{12},...,a_{1n}],[a_{21},a_{22},...,a_{2n}], . . . ,[a_{m1},a_{m2},...,a_{mn}]]$\n",
        "\n",
        "The **\"matrix\"** funtion must receive two matrices $A$ e $B$ in the specified format and return $A\\times B$"
      ]
    },
    {
      "cell_type": "code",
      "metadata": {
        "id": "SQsmlh1C8tpa",
        "colab": {
          "base_uri": "https://localhost:8080/"
        },
        "outputId": "d3d98e76-5534-4aa8-8076-93e0ffd4f903"
      },
      "source": [
        "def matrix():\n",
        "  matrix_A = [[17, 3, 99], [28, 7, 98], [8, 4, 0]]\n",
        "  matrix_B = [[15, 4, 98], [25, 9, 94], [25, 6, 99]]\n",
        "\n",
        "  AxB = [[0,0,0], [0,0,0], [0,0,0]]\n",
        "\n",
        "  for i in range(len(matrix_A)):\n",
        "    for j in range(len(matrix_B[0])):\n",
        "      for k in range(len(matrix_B)):\n",
        "        AxB[i][j] += matrix_A[i][k] * matrix_B[k][j]\n",
        "  return AxB\n",
        "\n",
        "matrix()"
      ],
      "execution_count": null,
      "outputs": [
        {
          "output_type": "execute_result",
          "data": {
            "text/plain": [
              "[[2805, 689, 11749], [3045, 763, 13104], [220, 68, 1160]]"
            ]
          },
          "metadata": {},
          "execution_count": 19
        }
      ]
    }
  ]
}